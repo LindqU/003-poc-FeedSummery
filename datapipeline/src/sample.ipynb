{
 "cells": [
  {
   "cell_type": "code",
   "execution_count": 1,
   "metadata": {},
   "outputs": [],
   "source": [
    "from llm.base_prompt import BasePrompt\n",
    "from langchain.pydantic_v1 import BaseModel, Field, validator\n",
    "from datetime import datetime"
   ]
  },
  {
   "cell_type": "code",
   "execution_count": 2,
   "metadata": {},
   "outputs": [
    {
     "name": "stderr",
     "output_type": "stream",
     "text": [
      "/home/vscode/.pyenv/versions/3.10.13/lib/python3.10/site-packages/langchain/llms/openai.py:202: UserWarning: You are trying to use a chat model. This way of initializing it is no longer supported. Instead, please use: `from langchain.chat_models import ChatOpenAI`\n",
      "  warnings.warn(\n",
      "/home/vscode/.pyenv/versions/3.10.13/lib/python3.10/site-packages/langchain/llms/openai.py:790: UserWarning: You are trying to use a chat model. This way of initializing it is no longer supported. Instead, please use: `from langchain.chat_models import ChatOpenAI`\n",
      "  warnings.warn(\n"
     ]
    }
   ],
   "source": [
    "feed_dict = {'GoogleAdsDeveloper': [{'title': 'Announcing beta launch of Display & Video 360 API v3', 'link': 'http://ads-developers.googleblog.com/2023/10/announcing-beta-launch-of-display-video.html', 'summary': 'We’re pleased to announce that <a href=\"https://developers.google.com/display-video/api/reference/rest/v3\">Display &amp; Video 360 API v3</a> is available in public beta starting today.<br /><br />\\n\\nv3 includes a number of new features and breaking changes. Here are some of the changes introduced in v3:\\n<ul>\\n  <li>You can now fully manage <a href=\"https://support.google.com/displayvideo/answer/2705812#lists\">proximity location lists</a>, enabling you to use the <a href=\"https://developers.google.com/display-video/api/reference/rest/v3/advertisers.locationLists.assignedLocations#methods\"><code>advertisers.locationLists.assignedLocations</code></a> service to create and delete locations assigned to <code>TARGETING_LOCATION_TYPE_PROXIMITY</code> <a href=\"https://developers.google.com/display-video/api/reference/rest/v3/advertisers.locationLists#LocationList\"><code>LocationList</code></a> resources.</li>\\n  <li>You can now more easily enable optimized targeting for your line items using the new boolean <a href=\"https://developers.google.com/display-video/api/reference/rest/v3/TargetingExpansionConfig#FIELDS.enable_optimized_targeting\"><code>enableOptimizedTargeting</code></a> field, which replaces the <code>targetingExpansionLevel</code> field in the <a href=\"https://developers.google.com/display-video/api/reference/rest/v3/TargetingExpansionConfig\"><code>TargetingExpansionConfig</code></a> object.</li>\\n  <li>The <a href=\"https://developers.google.com/display-video/api/reference/rest/v3/advertisers#Advertiser.FIELDS.billing_config\"><code>billingConfig</code></a> field is now required in the <a href=\"https://developers.google.com/display-video/api/reference/rest/v3/advertisers#Advertiser\"><code>Advertiser</code></a> resource and must be included when making <a href=\"https://developers.google.com/display-video/api/reference/rest/v3/advertisers/create\"><code>advertisers.create</code></a> requests. To help with this, a new <a href=\"https://developers.google.com/display-video/api/reference/rest/v3/partners#Partner.FIELDS.billing_config\"><code>billingConfig</code></a> field has been added to the <a href=\"https://developers.google.com/display-video/api/reference/rest/v3/partners#Partner\"><code>Partner</code></a> resource to surface the billing information for the parent partner.</li>\\n  <li><code>YoutubeAdGroup</code> and <code>YoutubeAdGroupAd</code> resources have been renamed to <a href=\"https://developers.google.com/display-video/api/reference/rest/v3/advertisers.adGroups#AdGroup\"><code>AdGroup</code></a> and <a href=\"https://developers.google.com/display-video/api/reference/rest/v3/advertisers.adGroupAds#AdGroupAd\"><code>AdGroupAd</code></a>.</li>\\n</ul>\\n\\nMore detailed information about this release can be found in our <a href=\"https://developers.google.com/display-video/api/release-notes#october_2_2023\">release notes</a>. Follow the steps in our <a href=\"https://developers.google.com/display-video/api/v3-migration-guide\">migration guide</a> to migrate from v2 to v3. Be aware that breaking changes may be made to v3 while in beta and will be listed in the <a href=\"https://developers.google.com/display-video/api/release-notes\">Display &amp; Video 360 API release notes</a>.<br /><br />\\n\\nIf you run into issues or need help with these new features or samples, please contact us using our <a href=\"https://support.google.com/displayvideo/contact/nghelp_contact_form\">support contact form</a>.<br />\\n\\n<span class=\"byline-author\"><img height=\"40\" src=\"https://lh5.googleusercontent.com/ul6Bu6os82XfScd3uPkxcr4wuYHeOjBXB0TsB7mFIO-63RW7I-ciH9SZVTiRUk0NOGUg_8oit2oD7cr9HTrH8gol_Y6p8mqEeEWTQB24GyiZTGwpB-BFvji9n9goOPHz19mSYqtr\" style=\"border: none; vertical-align: middle;\" width=\"40\" /> - Trevor Mulchay, Display &amp; Video 360 API Team</span>'}]}\n",
    "summary = feed_dict[\"GoogleAdsDeveloper\"][0]['summary']\n",
    "\n",
    "class OutputSchema(BaseModel):\n",
    "  ad_type:str = Field(description=\"広告の種類\")\n",
    "  change_start_date: datetime = Field(description=\"変更が始まる時期\")\n",
    "  content:str = Field(description=\"変更内容について\")\n",
    "\n",
    "\n",
    "\n",
    "\n",
    "base_prompt = BasePrompt(output_schema=OutputSchema)\n",
    "query = f\"下記のメッセージについて\\n-どのような広告で\\n-いつから\\n-どのような変更があるのか\\nを答えてください。\\n---------\\n{summary}\"\n",
    "\n",
    "base_prompt.gen_prompt(query)"
   ]
  },
  {
   "cell_type": "code",
   "execution_count": 4,
   "metadata": {},
   "outputs": [
    {
     "name": "stderr",
     "output_type": "stream",
     "text": [
      "2023-10-07 13:59:32,326 - util.log - INFO - Prompt\n",
      "下記のメッセージについて\n",
      "-どのような広告で\n",
      "-いつから\n",
      "-どのような変更があるのか\n",
      "を答えてください。\n",
      "---------\n",
      "We’re pleased to announce that <a href=\"https://developers.google.com/display-video/api/reference/rest/v3\">Display &amp; Video 360 API v3</a> is available in public beta starting today.<br /><br />\n",
      "\n",
      "v3 includes a number of new features and breaking changes. Here are some of the changes introduced in v3:\n",
      "<ul>\n",
      "  <li>You can now fully manage <a href=\"https://support.google.com/displayvideo/answer/2705812#lists\">proximity location lists</a>, enabling you to use the <a href=\"https://developers.google.com/display-video/api/reference/rest/v3/advertisers.locationLists.assignedLocations#methods\"><code>advertisers.locationLists.assignedLocations</code></a> service to create and delete locations assigned to <code>TARGETING_LOCATION_TYPE_PROXIMITY</code> <a href=\"https://developers.google.com/display-video/api/reference/rest/v3/advertisers.locationLists#LocationList\"><code>LocationList</code></a> resources.</li>\n",
      "  <li>You can now more easily enable optimized targeting for your line items using the new boolean <a href=\"https://developers.google.com/display-video/api/reference/rest/v3/TargetingExpansionConfig#FIELDS.enable_optimized_targeting\"><code>enableOptimizedTargeting</code></a> field, which replaces the <code>targetingExpansionLevel</code> field in the <a href=\"https://developers.google.com/display-video/api/reference/rest/v3/TargetingExpansionConfig\"><code>TargetingExpansionConfig</code></a> object.</li>\n",
      "  <li>The <a href=\"https://developers.google.com/display-video/api/reference/rest/v3/advertisers#Advertiser.FIELDS.billing_config\"><code>billingConfig</code></a> field is now required in the <a href=\"https://developers.google.com/display-video/api/reference/rest/v3/advertisers#Advertiser\"><code>Advertiser</code></a> resource and must be included when making <a href=\"https://developers.google.com/display-video/api/reference/rest/v3/advertisers/create\"><code>advertisers.create</code></a> requests. To help with this, a new <a href=\"https://developers.google.com/display-video/api/reference/rest/v3/partners#Partner.FIELDS.billing_config\"><code>billingConfig</code></a> field has been added to the <a href=\"https://developers.google.com/display-video/api/reference/rest/v3/partners#Partner\"><code>Partner</code></a> resource to surface the billing information for the parent partner.</li>\n",
      "  <li><code>YoutubeAdGroup</code> and <code>YoutubeAdGroupAd</code> resources have been renamed to <a href=\"https://developers.google.com/display-video/api/reference/rest/v3/advertisers.adGroups#AdGroup\"><code>AdGroup</code></a> and <a href=\"https://developers.google.com/display-video/api/reference/rest/v3/advertisers.adGroupAds#AdGroupAd\"><code>AdGroupAd</code></a>.</li>\n",
      "</ul>\n",
      "\n",
      "More detailed information about this release can be found in our <a href=\"https://developers.google.com/display-video/api/release-notes#october_2_2023\">release notes</a>. Follow the steps in our <a href=\"https://developers.google.com/display-video/api/v3-migration-guide\">migration guide</a> to migrate from v2 to v3. Be aware that breaking changes may be made to v3 while in beta and will be listed in the <a href=\"https://developers.google.com/display-video/api/release-notes\">Display &amp; Video 360 API release notes</a>.<br /><br />\n",
      "\n",
      "If you run into issues or need help with these new features or samples, please contact us using our <a href=\"https://support.google.com/displayvideo/contact/nghelp_contact_form\">support contact form</a>.<br />\n",
      "\n",
      "<span class=\"byline-author\"><img height=\"40\" src=\"https://lh5.googleusercontent.com/ul6Bu6os82XfScd3uPkxcr4wuYHeOjBXB0TsB7mFIO-63RW7I-ciH9SZVTiRUk0NOGUg_8oit2oD7cr9HTrH8gol_Y6p8mqEeEWTQB24GyiZTGwpB-BFvji9n9goOPHz19mSYqtr\" style=\"border: none; vertical-align: middle;\" width=\"40\" /> - Trevor Mulchay, Display &amp; Video 360 API Team</span>\n",
      "\n",
      "The output should be formatted as a JSON instance that conforms to the JSON schema below.\n",
      "\n",
      "As an example, for the schema {\"properties\": {\"foo\": {\"title\": \"Foo\", \"description\": \"a list of strings\", \"type\": \"array\", \"items\": {\"type\": \"string\"}}}, \"required\": [\"foo\"]}\n",
      "the object {\"foo\": [\"bar\", \"baz\"]} is a well-formatted instance of the schema. The object {\"properties\": {\"foo\": [\"bar\", \"baz\"]}} is not well-formatted.\n",
      "\n",
      "Here is the output schema:\n",
      "```\n",
      "{\"properties\": {\"ad_type\": {\"title\": \"Ad Type\", \"description\": \"\\u5e83\\u544a\\u306e\\u7a2e\\u985e\", \"type\": \"string\"}, \"change_start_date\": {\"title\": \"Change Start Date\", \"description\": \"\\u5909\\u66f4\\u304c\\u59cb\\u307e\\u308b\\u6642\\u671f\", \"type\": \"string\", \"format\": \"date-time\"}, \"content\": {\"title\": \"Content\", \"description\": \"\\u5909\\u66f4\\u5185\\u5bb9\\u306b\\u3064\\u3044\\u3066\", \"type\": \"string\"}}, \"required\": [\"ad_type\", \"change_start_date\", \"content\"]}\n",
      "```\n",
      "\n",
      "2023-10-07 13:59:32,334 - openai - DEBUG - message='Request to OpenAI API' method=post path=https://api.openai.com/v1/chat/completions\n",
      "2023-10-07 13:59:32,336 - openai - DEBUG - api_version=None data='{\"messages\": [{\"role\": \"user\", \"content\": \"\\\\u4e0b\\\\u8a18\\\\u306e\\\\u30e1\\\\u30c3\\\\u30bb\\\\u30fc\\\\u30b8\\\\u306b\\\\u3064\\\\u3044\\\\u3066\\\\n-\\\\u3069\\\\u306e\\\\u3088\\\\u3046\\\\u306a\\\\u5e83\\\\u544a\\\\u3067\\\\n-\\\\u3044\\\\u3064\\\\u304b\\\\u3089\\\\n-\\\\u3069\\\\u306e\\\\u3088\\\\u3046\\\\u306a\\\\u5909\\\\u66f4\\\\u304c\\\\u3042\\\\u308b\\\\u306e\\\\u304b\\\\n\\\\u3092\\\\u7b54\\\\u3048\\\\u3066\\\\u304f\\\\u3060\\\\u3055\\\\u3044\\\\u3002\\\\n---------\\\\nWe\\\\u2019re pleased to announce that <a href=\\\\\"https://developers.google.com/display-video/api/reference/rest/v3\\\\\">Display &amp; Video 360 API v3</a> is available in public beta starting today.<br /><br />\\\\n\\\\nv3 includes a number of new features and breaking changes. Here are some of the changes introduced in v3:\\\\n<ul>\\\\n  <li>You can now fully manage <a href=\\\\\"https://support.google.com/displayvideo/answer/2705812#lists\\\\\">proximity location lists</a>, enabling you to use the <a href=\\\\\"https://developers.google.com/display-video/api/reference/rest/v3/advertisers.locationLists.assignedLocations#methods\\\\\"><code>advertisers.locationLists.assignedLocations</code></a> service to create and delete locations assigned to <code>TARGETING_LOCATION_TYPE_PROXIMITY</code> <a href=\\\\\"https://developers.google.com/display-video/api/reference/rest/v3/advertisers.locationLists#LocationList\\\\\"><code>LocationList</code></a> resources.</li>\\\\n  <li>You can now more easily enable optimized targeting for your line items using the new boolean <a href=\\\\\"https://developers.google.com/display-video/api/reference/rest/v3/TargetingExpansionConfig#FIELDS.enable_optimized_targeting\\\\\"><code>enableOptimizedTargeting</code></a> field, which replaces the <code>targetingExpansionLevel</code> field in the <a href=\\\\\"https://developers.google.com/display-video/api/reference/rest/v3/TargetingExpansionConfig\\\\\"><code>TargetingExpansionConfig</code></a> object.</li>\\\\n  <li>The <a href=\\\\\"https://developers.google.com/display-video/api/reference/rest/v3/advertisers#Advertiser.FIELDS.billing_config\\\\\"><code>billingConfig</code></a> field is now required in the <a href=\\\\\"https://developers.google.com/display-video/api/reference/rest/v3/advertisers#Advertiser\\\\\"><code>Advertiser</code></a> resource and must be included when making <a href=\\\\\"https://developers.google.com/display-video/api/reference/rest/v3/advertisers/create\\\\\"><code>advertisers.create</code></a> requests. To help with this, a new <a href=\\\\\"https://developers.google.com/display-video/api/reference/rest/v3/partners#Partner.FIELDS.billing_config\\\\\"><code>billingConfig</code></a> field has been added to the <a href=\\\\\"https://developers.google.com/display-video/api/reference/rest/v3/partners#Partner\\\\\"><code>Partner</code></a> resource to surface the billing information for the parent partner.</li>\\\\n  <li><code>YoutubeAdGroup</code> and <code>YoutubeAdGroupAd</code> resources have been renamed to <a href=\\\\\"https://developers.google.com/display-video/api/reference/rest/v3/advertisers.adGroups#AdGroup\\\\\"><code>AdGroup</code></a> and <a href=\\\\\"https://developers.google.com/display-video/api/reference/rest/v3/advertisers.adGroupAds#AdGroupAd\\\\\"><code>AdGroupAd</code></a>.</li>\\\\n</ul>\\\\n\\\\nMore detailed information about this release can be found in our <a href=\\\\\"https://developers.google.com/display-video/api/release-notes#october_2_2023\\\\\">release notes</a>. Follow the steps in our <a href=\\\\\"https://developers.google.com/display-video/api/v3-migration-guide\\\\\">migration guide</a> to migrate from v2 to v3. Be aware that breaking changes may be made to v3 while in beta and will be listed in the <a href=\\\\\"https://developers.google.com/display-video/api/release-notes\\\\\">Display &amp; Video 360 API release notes</a>.<br /><br />\\\\n\\\\nIf you run into issues or need help with these new features or samples, please contact us using our <a href=\\\\\"https://support.google.com/displayvideo/contact/nghelp_contact_form\\\\\">support contact form</a>.<br />\\\\n\\\\n<span class=\\\\\"byline-author\\\\\"><img height=\\\\\"40\\\\\" src=\\\\\"https://lh5.googleusercontent.com/ul6Bu6os82XfScd3uPkxcr4wuYHeOjBXB0TsB7mFIO-63RW7I-ciH9SZVTiRUk0NOGUg_8oit2oD7cr9HTrH8gol_Y6p8mqEeEWTQB24GyiZTGwpB-BFvji9n9goOPHz19mSYqtr\\\\\" style=\\\\\"border: none; vertical-align: middle;\\\\\" width=\\\\\"40\\\\\" /> - Trevor Mulchay, Display &amp; Video 360 API Team</span>\\\\n\\\\nThe output should be formatted as a JSON instance that conforms to the JSON schema below.\\\\n\\\\nAs an example, for the schema {\\\\\"properties\\\\\": {\\\\\"foo\\\\\": {\\\\\"title\\\\\": \\\\\"Foo\\\\\", \\\\\"description\\\\\": \\\\\"a list of strings\\\\\", \\\\\"type\\\\\": \\\\\"array\\\\\", \\\\\"items\\\\\": {\\\\\"type\\\\\": \\\\\"string\\\\\"}}}, \\\\\"required\\\\\": [\\\\\"foo\\\\\"]}\\\\nthe object {\\\\\"foo\\\\\": [\\\\\"bar\\\\\", \\\\\"baz\\\\\"]} is a well-formatted instance of the schema. The object {\\\\\"properties\\\\\": {\\\\\"foo\\\\\": [\\\\\"bar\\\\\", \\\\\"baz\\\\\"]}} is not well-formatted.\\\\n\\\\nHere is the output schema:\\\\n```\\\\n{\\\\\"properties\\\\\": {\\\\\"ad_type\\\\\": {\\\\\"title\\\\\": \\\\\"Ad Type\\\\\", \\\\\"description\\\\\": \\\\\"\\\\\\\\u5e83\\\\\\\\u544a\\\\\\\\u306e\\\\\\\\u7a2e\\\\\\\\u985e\\\\\", \\\\\"type\\\\\": \\\\\"string\\\\\"}, \\\\\"change_start_date\\\\\": {\\\\\"title\\\\\": \\\\\"Change Start Date\\\\\", \\\\\"description\\\\\": \\\\\"\\\\\\\\u5909\\\\\\\\u66f4\\\\\\\\u304c\\\\\\\\u59cb\\\\\\\\u307e\\\\\\\\u308b\\\\\\\\u6642\\\\\\\\u671f\\\\\", \\\\\"type\\\\\": \\\\\"string\\\\\", \\\\\"format\\\\\": \\\\\"date-time\\\\\"}, \\\\\"content\\\\\": {\\\\\"title\\\\\": \\\\\"Content\\\\\", \\\\\"description\\\\\": \\\\\"\\\\\\\\u5909\\\\\\\\u66f4\\\\\\\\u5185\\\\\\\\u5bb9\\\\\\\\u306b\\\\\\\\u3064\\\\\\\\u3044\\\\\\\\u3066\\\\\", \\\\\"type\\\\\": \\\\\"string\\\\\"}}, \\\\\"required\\\\\": [\\\\\"ad_type\\\\\", \\\\\"change_start_date\\\\\", \\\\\"content\\\\\"]}\\\\n```\\\\n\"}], \"model\": \"gpt-3.5-turbo\"}' message='Post details'\n",
      "2023-10-07 13:59:32,338 - urllib3.util.retry - DEBUG - Converted retries value: 2 -> Retry(total=2, connect=None, read=None, redirect=None, status=None)\n",
      "2023-10-07 13:59:32,343 - urllib3.connectionpool - DEBUG - Starting new HTTPS connection (1): api.openai.com:443\n",
      "2023-10-07 13:59:44,998 - urllib3.connectionpool - DEBUG - https://api.openai.com:443 \"POST /v1/chat/completions HTTP/1.1\" 200 None\n",
      "2023-10-07 13:59:45,003 - openai - DEBUG - message='OpenAI API response' path=https://api.openai.com/v1/chat/completions processing_ms=12248 request_id=a0b4b7865d1be3945b6deadbdb208a23 response_code=200\n"
     ]
    },
    {
     "data": {
      "text/plain": [
       "'広告の種類：Display & Video 360 API v3\\n変更の開始日：本日から\\n変更内容：以下の変更がv3で導入されました。\\n- プロキシミティロケーションリストの完全な管理が可能になりました。これにより、TARGETING_LOCATION_TYPE_PROXIMITYのLocationListリソースに割り当てられたロケーションの作成と削除がadvertisers.locationLists.assignedLocationsサービスを使用して行えます。\\n- 新しいブール型フィールド「enableOptimizedTargeting」が追加され、line itemsの最適化ターゲティングをより簡単に有効にできるようになります。このフィールドは、TargetingExpansionConfigオブジェクトのtargetingExpansionLevelフィールドを置き換えます。\\n- AdvertiserリソースのbillingConfigフィールドが必須となり、advertisers.createリクエストを行う際に含める必要があります。これをサポートするため、Partnerリソースに新しいbillingConfigフィールドが追加され、親パートナーの課金情報を表示します。\\n- YoutubeAdGroupとYoutubeAdGroupAdリソースがAdGroupとAdGroupAdに名称変更されました。\\n\\n詳細な情報は、リリースノートおよびマイグレーションガイドに記載されています。v3のベータ版では、ブレイキングチェンジが加えられる可能性があり、それらはDisplay & Video 360 APIリリースノートにリストされます。\\n\\n新機能やサンプルに関する問題やサポートが必要な場合は、サポートコンタクトフォームを使用してお問い合わせください。'"
      ]
     },
     "execution_count": 4,
     "metadata": {},
     "output_type": "execute_result"
    }
   ],
   "source": [
    "base_prompt.run_prompt()"
   ]
  },
  {
   "cell_type": "code",
   "execution_count": 5,
   "metadata": {},
   "outputs": [
    {
     "name": "stdout",
     "output_type": "stream",
     "text": [
      "広告の種類：Display & Video 360 API v3\n",
      "変更の開始日：本日から\n",
      "変更内容：以下の変更がv3で導入されました。\n",
      "- プロキシミティロケーションリストの完全な管理が可能になりました。これにより、TARGETING_LOCATION_TYPE_PROXIMITYのLocationListリソースに割り当てられたロケーションの作成と削除がadvertisers.locationLists.assignedLocationsサービスを使用して行えます。\n",
      "- 新しいブール型フィールド「enableOptimizedTargeting」が追加され、line itemsの最適化ターゲティングをより簡単に有効にできるようになります。このフィールドは、TargetingExpansionConfigオブジェクトのtargetingExpansionLevelフィールドを置き換えます。\n",
      "- AdvertiserリソースのbillingConfigフィールドが必須となり、advertisers.createリクエストを行う際に含める必要があります。これをサポートするため、Partnerリソースに新しいbillingConfigフィールドが追加され、親パートナーの課金情報を表示します。\n",
      "- YoutubeAdGroupとYoutubeAdGroupAdリソースがAdGroupとAdGroupAdに名称変更されました。\n",
      "\n",
      "詳細な情報は、リリースノートおよびマイグレーションガイドに記載されています。v3のベータ版では、ブレイキングチェンジが加えられる可能性があり、それらはDisplay & Video 360 APIリリースノートにリストされます。\n",
      "\n",
      "新機能やサンプルに関する問題やサポートが必要な場合は、サポートコンタクトフォームを使用してお問い合わせください。\n"
     ]
    }
   ],
   "source": [
    "print(\"広告の種類：Display & Video 360 API v3\\n変更の開始日：本日から\\n変更内容：以下の変更がv3で導入されました。\\n- プロキシミティロケーションリストの完全な管理が可能になりました。これにより、TARGETING_LOCATION_TYPE_PROXIMITYのLocationListリソースに割り当てられたロケーションの作成と削除がadvertisers.locationLists.assignedLocationsサービスを使用して行えます。\\n- 新しいブール型フィールド「enableOptimizedTargeting」が追加され、line itemsの最適化ターゲティングをより簡単に有効にできるようになります。このフィールドは、TargetingExpansionConfigオブジェクトのtargetingExpansionLevelフィールドを置き換えます。\\n- AdvertiserリソースのbillingConfigフィールドが必須となり、advertisers.createリクエストを行う際に含める必要があります。これをサポートするため、Partnerリソースに新しいbillingConfigフィールドが追加され、親パートナーの課金情報を表示します。\\n- YoutubeAdGroupとYoutubeAdGroupAdリソースがAdGroupとAdGroupAdに名称変更されました。\\n\\n詳細な情報は、リリースノートおよびマイグレーションガイドに記載されています。v3のベータ版では、ブレイキングチェンジが加えられる可能性があり、それらはDisplay & Video 360 APIリリースノートにリストされます。\\n\\n新機能やサンプルに関する問題やサポートが必要な場合は、サポートコンタクトフォームを使用してお問い合わせください。\")"
   ]
  }
 ],
 "metadata": {
  "kernelspec": {
   "display_name": ".venv",
   "language": "python",
   "name": "python3"
  },
  "language_info": {
   "codemirror_mode": {
    "name": "ipython",
    "version": 3
   },
   "file_extension": ".py",
   "mimetype": "text/x-python",
   "name": "python",
   "nbconvert_exporter": "python",
   "pygments_lexer": "ipython3",
   "version": "3.10.13"
  },
  "orig_nbformat": 4
 },
 "nbformat": 4,
 "nbformat_minor": 2
}
