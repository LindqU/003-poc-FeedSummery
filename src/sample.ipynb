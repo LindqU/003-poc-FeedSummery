{
 "cells": [
  {
   "cell_type": "code",
   "execution_count": 1,
   "metadata": {},
   "outputs": [
    {
     "name": "stdout",
     "output_type": "stream",
     "text": [
      "Announcing beta launch of Display & Video 360 API v3 http://ads-developers.googleblog.com/2023/10/announcing-beta-launch-of-display-video.html\n",
      "Changes in dynamic ad targets reporting http://ads-developers.googleblog.com/2023/09/changes-in-dynamic-ad-targets-reporting.html\n",
      "Google Ads Shopping Campaign Enhanced CPC Deprecation http://ads-developers.googleblog.com/2023/09/google-ads-shopping-campaign-enhanced.html\n",
      "Google Ads API support for importing and editing conversions from Google Analytics http://ads-developers.googleblog.com/2023/09/google-ads-api-support-for-importing.html\n",
      "Buy on Google For Search and Shopping Deprecation http://ads-developers.googleblog.com/2023/09/buy-on-google-for-search-and-shopping.html\n",
      "Performance Max: create listing groups using batch processing http://ads-developers.googleblog.com/2023/09/performance-max-create-listing-groups.html\n",
      "Planned Content API maintenance from 15:00 UTC  to 17:00 UTC on September 28, 2023 http://ads-developers.googleblog.com/2023/09/planned-content-api-maintenance-from.html\n",
      "Introducing a new way to discover Display & Video 360 bulk tools http://ads-developers.googleblog.com/2023/09/introducing-new-way-to-discover-display.html\n",
      "Developer token-less experience for Google Ads API http://ads-developers.googleblog.com/2023/09/developer-token-less-experience-for.html\n",
      "August 2023 update to Display & Video 360 API v2 http://ads-developers.googleblog.com/2023/08/august-2023-update-to-display-video-360.html\n",
      "Google Ads API v12 sunset reminder http://ads-developers.googleblog.com/2023/08/google-ads-api-v12-sunset-reminder.html\n",
      "Launching the Merchant Support Service http://ads-developers.googleblog.com/2023/08/launching-merchant-support-service.html\n",
      "Deprecation of Structured Data Files v5.4 http://ads-developers.googleblog.com/2023/08/deprecation-of-structured-data-files-v54.html\n",
      "Announcing v202308 of the Google Ad Manager API http://ads-developers.googleblog.com/2023/08/announcing-v202308-of-google-ad-manager.html\n",
      "Announcing v14_1 of the Google Ads API http://ads-developers.googleblog.com/2023/08/announcing-v141-of-google-ads-api.html\n",
      "Change to updates of Google Ads custom audience types http://ads-developers.googleblog.com/2023/08/change-to-updates-of-google-ads-custom.html\n",
      "We’ve Made Updates to the User Messaging Platform SDK APIs http://ads-developers.googleblog.com/2023/08/weve-made-updates-to-user-messaging.html\n",
      "Upcoming permission changes to MerchantLinkService in the Google Ads API http://ads-developers.googleblog.com/2023/08/upcoming-permission-changes-to.html\n",
      "Image and Location Assets in New Accounts http://ads-developers.googleblog.com/2023/07/image-and-location-assets-in-new.html\n",
      "Effectively use the Attribution Reporting API for ad measurement http://ads-developers.googleblog.com/2023/07/effectively-use-the-attribution-reporting-api-for-ad-measurement.html\n",
      "Announcing New Reporting Script for Performance Max http://ads-developers.googleblog.com/2023/07/announcing-new-reporting-script-for.html\n",
      "Display & Video 360 API v1 will sunset on September 14, 2023 http://ads-developers.googleblog.com/2023/07/display-video-360-api-v1-will-sunset-on.html\n",
      "Generic mutate support in Google Ads scripts http://ads-developers.googleblog.com/2023/07/generic-mutate-support-in-google-ads.html\n",
      "Performance Max success story driven by Google Ads API with Kueez http://ads-developers.googleblog.com/2023/07/performance-max-success-story-driven-by.html\n",
      "Deprecating outcome-based buying in Display & Video 360 API and Structured Data Files on August 1, 2023 http://ads-developers.googleblog.com/2023/07/deprecating-outcome-based-buying-in.html\n"
     ]
    }
   ],
   "source": [
    "import feedparser\n",
    "RSS_URL = 'http://feeds.feedburner.com/GoogleAdsDeveloperBlog'\n",
    "\n",
    "\n",
    "d = feedparser.parse(RSS_URL)\n",
    "for entry in d.entries:\n",
    "    print(entry.title, entry.link)"
   ]
  }
 ],
 "metadata": {
  "kernelspec": {
   "display_name": ".venv",
   "language": "python",
   "name": "python3"
  },
  "language_info": {
   "codemirror_mode": {
    "name": "ipython",
    "version": 3
   },
   "file_extension": ".py",
   "mimetype": "text/x-python",
   "name": "python",
   "nbconvert_exporter": "python",
   "pygments_lexer": "ipython3",
   "version": "3.10.13"
  },
  "orig_nbformat": 4
 },
 "nbformat": 4,
 "nbformat_minor": 2
}
